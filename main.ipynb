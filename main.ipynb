{
 "cells": [
  {
   "cell_type": "code",
   "execution_count": 1,
   "metadata": {},
   "outputs": [],
   "source": [
    "# preprocessing\n",
    "from nltk.stem import WordNetLemmatizer\n",
    "from nltk.tokenize import word_tokenize\n",
    "from nltk.corpus import stopwords\n",
    "import pandas as pd\n",
    "import re\n",
    "# machine learning\n",
    "from sklearn.model_selection import train_test_split\n",
    "from tensorflow.keras.models import Sequential\n",
    "from tensorflow.keras.layers import Dense\n",
    "from tensorflow.keras.callbacks import EarlyStopping\n",
    "from tensorflow import string\n",
    "import tensorflow_hub as hub\n",
    "# visualization\n",
    "import seaborn as sns"
   ]
  },
  {
   "cell_type": "code",
   "execution_count": 2,
   "metadata": {},
   "outputs": [
    {
     "data": {
      "text/plain": [
       "(17297, 2)"
      ]
     },
     "execution_count": 2,
     "metadata": {},
     "output_type": "execute_result"
    }
   ],
   "source": [
    "#'''\n",
    "kaggle_1 = pd.read_csv('datasets\\Youtube01-Psy.csv')\n",
    "kaggle_2 = pd.read_csv('datasets\\Youtube02-KatyPerry.csv')\n",
    "kaggle_3 = pd.read_csv('datasets\\Youtube03-LMFAO.csv')\n",
    "kaggle_4 = pd.read_csv('datasets\\Youtube04-Eminem.csv')\n",
    "kaggle_5 = pd.read_csv('datasets\\Youtube05-Shakira.csv')\n",
    "# combine kaggle datasets\n",
    "df = pd.concat([kaggle_1, kaggle_2, kaggle_3, kaggle_4, kaggle_5], ignore_index=True)\n",
    "# remove blank and duplicate rows\n",
    "df = df.replace('', float('NaN')).dropna().drop_duplicates()\n",
    "# select relevant features\n",
    "df = df[['CONTENT', 'CLASS']]\n",
    "# rename features\n",
    "df.rename(columns={'CONTENT': 'comment', 'CLASS': 'target'}, inplace=True)\n",
    "# add custom dataset\n",
    "custom_df_1 = pd.read_csv('datasets\\youtube_comments.csv', delimiter=';')\n",
    "custom_df_2 = pd.read_csv('datasets\\custom_comments.csv')\n",
    "custom_df_1 = custom_df_1[['Comment', 'Spam']]\n",
    "custom_df_1.rename(columns={'Comment': 'comment', 'Spam': 'target'}, inplace=True)\n",
    "df = pd.concat([df, custom_df_1, custom_df_2], ignore_index=True)\n",
    "df.shape\n",
    "#'''"
   ]
  },
  {
   "cell_type": "code",
   "execution_count": 3,
   "metadata": {},
   "outputs": [
    {
     "data": {
      "text/html": [
       "<div>\n",
       "<style scoped>\n",
       "    .dataframe tbody tr th:only-of-type {\n",
       "        vertical-align: middle;\n",
       "    }\n",
       "\n",
       "    .dataframe tbody tr th {\n",
       "        vertical-align: top;\n",
       "    }\n",
       "\n",
       "    .dataframe thead th {\n",
       "        text-align: right;\n",
       "    }\n",
       "</style>\n",
       "<table border=\"1\" class=\"dataframe\">\n",
       "  <thead>\n",
       "    <tr style=\"text-align: right;\">\n",
       "      <th></th>\n",
       "      <th>comment</th>\n",
       "      <th>target</th>\n",
       "    </tr>\n",
       "  </thead>\n",
       "  <tbody>\n",
       "    <tr>\n",
       "      <th>0</th>\n",
       "      <td>Huh, anyway check out this you[tube] channel: ...</td>\n",
       "      <td>1.0</td>\n",
       "    </tr>\n",
       "    <tr>\n",
       "      <th>1</th>\n",
       "      <td>Hey guys check out my new channel and our firs...</td>\n",
       "      <td>1.0</td>\n",
       "    </tr>\n",
       "    <tr>\n",
       "      <th>2</th>\n",
       "      <td>just for test I have to say murdev.com</td>\n",
       "      <td>1.0</td>\n",
       "    </tr>\n",
       "    <tr>\n",
       "      <th>3</th>\n",
       "      <td>me shaking my sexy ass on my channel enjoy ^_^ ﻿</td>\n",
       "      <td>1.0</td>\n",
       "    </tr>\n",
       "    <tr>\n",
       "      <th>4</th>\n",
       "      <td>watch?v=vtaRGgvGtWQ   Check this out .﻿</td>\n",
       "      <td>1.0</td>\n",
       "    </tr>\n",
       "  </tbody>\n",
       "</table>\n",
       "</div>"
      ],
      "text/plain": [
       "                                             comment  target\n",
       "0  Huh, anyway check out this you[tube] channel: ...     1.0\n",
       "1  Hey guys check out my new channel and our firs...     1.0\n",
       "2             just for test I have to say murdev.com     1.0\n",
       "3   me shaking my sexy ass on my channel enjoy ^_^ ﻿     1.0\n",
       "4            watch?v=vtaRGgvGtWQ   Check this out .﻿     1.0"
      ]
     },
     "execution_count": 3,
     "metadata": {},
     "output_type": "execute_result"
    }
   ],
   "source": [
    "df = df.replace('', float('NaN')).dropna().drop_duplicates()\n",
    "#df = df.dropna()\n",
    "df.head()"
   ]
  },
  {
   "cell_type": "code",
   "execution_count": 4,
   "metadata": {},
   "outputs": [
    {
     "name": "stdout",
     "output_type": "stream",
     "text": [
      "Not Spam: 1944\n",
      "Spam: 989\n"
     ]
    },
    {
     "data": {
      "image/png": "[encoded data removed]",
      "text/plain": [
       "<Figure size 432x288 with 1 Axes>"
      ]
     },
     "metadata": {
      "needs_background": "light"
     },
     "output_type": "display_data"
    }
   ],
   "source": [
    "print('Not Spam: {}'.format(len(df[df['target'] == 0])))\n",
    "print('Spam: {}'.format(len(df[df['target'] == 1])))\n",
    "sns.countplot(x='target', data=df);"
   ]
  },
  {
   "cell_type": "code",
   "execution_count": 5,
   "metadata": {},
   "outputs": [
    {
     "name": "stdout",
     "output_type": "stream",
     "text": [
      "100.00%\t2933/2933\r"
     ]
    },
    {
     "data": {
      "text/html": [
       "<div>\n",
       "<style scoped>\n",
       "    .dataframe tbody tr th:only-of-type {\n",
       "        vertical-align: middle;\n",
       "    }\n",
       "\n",
       "    .dataframe tbody tr th {\n",
       "        vertical-align: top;\n",
       "    }\n",
       "\n",
       "    .dataframe thead th {\n",
       "        text-align: right;\n",
       "    }\n",
       "</style>\n",
       "<table border=\"1\" class=\"dataframe\">\n",
       "  <thead>\n",
       "    <tr style=\"text-align: right;\">\n",
       "      <th></th>\n",
       "      <th>comment</th>\n",
       "      <th>target</th>\n",
       "      <th>cleaned</th>\n",
       "    </tr>\n",
       "  </thead>\n",
       "  <tbody>\n",
       "    <tr>\n",
       "      <th>0</th>\n",
       "      <td>Huh, anyway check out this you[tube] channel: ...</td>\n",
       "      <td>1.0</td>\n",
       "      <td>huh anyway check tube channel kobyoshi</td>\n",
       "    </tr>\n",
       "    <tr>\n",
       "      <th>1</th>\n",
       "      <td>Hey guys check out my new channel and our firs...</td>\n",
       "      <td>1.0</td>\n",
       "      <td>hey guys check new channel first vid this is u...</td>\n",
       "    </tr>\n",
       "    <tr>\n",
       "      <th>2</th>\n",
       "      <td>just for test I have to say murdev.com</td>\n",
       "      <td>1.0</td>\n",
       "      <td>test i say murdev com</td>\n",
       "    </tr>\n",
       "    <tr>\n",
       "      <th>3</th>\n",
       "      <td>me shaking my sexy ass on my channel enjoy ^_^ ﻿</td>\n",
       "      <td>1.0</td>\n",
       "      <td>shaking sexy ass channel enjoy</td>\n",
       "    </tr>\n",
       "    <tr>\n",
       "      <th>4</th>\n",
       "      <td>watch?v=vtaRGgvGtWQ   Check this out .﻿</td>\n",
       "      <td>1.0</td>\n",
       "      <td>check</td>\n",
       "    </tr>\n",
       "    <tr>\n",
       "      <th>...</th>\n",
       "      <td>...</td>\n",
       "      <td>...</td>\n",
       "      <td>...</td>\n",
       "    </tr>\n",
       "    <tr>\n",
       "      <th>17292</th>\n",
       "      <td>finally it's here</td>\n",
       "      <td>1.0</td>\n",
       "      <td>finally</td>\n",
       "    </tr>\n",
       "    <tr>\n",
       "      <th>17293</th>\n",
       "      <td>finally its here</td>\n",
       "      <td>1.0</td>\n",
       "      <td>finally</td>\n",
       "    </tr>\n",
       "    <tr>\n",
       "      <th>17294</th>\n",
       "      <td>congratulations you won a giveaway</td>\n",
       "      <td>1.0</td>\n",
       "      <td>congratulations giveaway</td>\n",
       "    </tr>\n",
       "    <tr>\n",
       "      <th>17295</th>\n",
       "      <td>Congratulations you've been shortlisted for a ...</td>\n",
       "      <td>1.0</td>\n",
       "      <td>congratulations shortlisted prize send text ac...</td>\n",
       "    </tr>\n",
       "    <tr>\n",
       "      <th>17296</th>\n",
       "      <td>Thanks message me I've got something for you</td>\n",
       "      <td>1.0</td>\n",
       "      <td>thanks message i got something</td>\n",
       "    </tr>\n",
       "  </tbody>\n",
       "</table>\n",
       "<p>2933 rows × 3 columns</p>\n",
       "</div>"
      ],
      "text/plain": [
       "                                                 comment  target  \\\n",
       "0      Huh, anyway check out this you[tube] channel: ...     1.0   \n",
       "1      Hey guys check out my new channel and our firs...     1.0   \n",
       "2                 just for test I have to say murdev.com     1.0   \n",
       "3       me shaking my sexy ass on my channel enjoy ^_^ ﻿     1.0   \n",
       "4                watch?v=vtaRGgvGtWQ   Check this out .﻿     1.0   \n",
       "...                                                  ...     ...   \n",
       "17292                                  finally it's here     1.0   \n",
       "17293                                   finally its here     1.0   \n",
       "17294                 congratulations you won a giveaway     1.0   \n",
       "17295  Congratulations you've been shortlisted for a ...     1.0   \n",
       "17296       Thanks message me I've got something for you     1.0   \n",
       "\n",
       "                                                 cleaned  \n",
       "0                 huh anyway check tube channel kobyoshi  \n",
       "1      hey guys check new channel first vid this is u...  \n",
       "2                                  test i say murdev com  \n",
       "3                         shaking sexy ass channel enjoy  \n",
       "4                                                  check  \n",
       "...                                                  ...  \n",
       "17292                                            finally  \n",
       "17293                                            finally  \n",
       "17294                           congratulations giveaway  \n",
       "17295  congratulations shortlisted prize send text ac...  \n",
       "17296                     thanks message i got something  \n",
       "\n",
       "[2933 rows x 3 columns]"
      ]
     },
     "execution_count": 5,
     "metadata": {},
     "output_type": "execute_result"
    }
   ],
   "source": [
    "wordnet_lemmatizer = WordNetLemmatizer()\n",
    "\n",
    "progress = 0\n",
    "length = len(df)\n",
    "\n",
    "def pre_process(text):\n",
    "    global progress\n",
    "    progress += 1\n",
    "    '''\n",
    "    - transform to lowercase\n",
    "    - remove links and mentions\n",
    "    - remove all characters except whitespaces and latin characters\n",
    "    - word tokenization\n",
    "    - lemmatization\n",
    "    '''\n",
    "    removed_mentions = re.sub(r'\\s?@(\\s)*(\\S*)\\s?', ' ', text)\n",
    "    removed_links = re.sub(r'((http|watch\\?v=|[wW]{3})\\S+)', ' ', removed_mentions)\n",
    "    normalized = re.sub(r'[^A-Za-z]+', ' ', removed_links)\n",
    "    tokens = word_tokenize(normalized)\n",
    "    tokens = [word for word in tokens if not word in stopwords.words('english')]\n",
    "\n",
    "    print(f'{progress / length * 100:.2f}%\\t{progress}/{length}', end='\\r')\n",
    "    return ' '.join(tokens).lower()\n",
    "\n",
    "df['cleaned'] = df['comment'].apply(pre_process)\n",
    "df"
   ]
  },
  {
   "cell_type": "code",
   "execution_count": 6,
   "metadata": {},
   "outputs": [
    {
     "name": "stdout",
     "output_type": "stream",
     "text": [
      "2346\n",
      "587\n"
     ]
    }
   ],
   "source": [
    "X = df['cleaned'].values\n",
    "y = df['target'].values\n",
    "X_train, X_test, y_train, y_test = train_test_split(X, y, test_size=0.2, random_state=42)\n",
    "    \n",
    "print(len(X_train))\n",
    "print(len(X_test))"
   ]
  },
  {
   "cell_type": "code",
   "execution_count": 7,
   "metadata": {},
   "outputs": [
    {
     "name": "stdout",
     "output_type": "stream",
     "text": [
      "Epoch 1/100\n",
      "8/8 [==============================] - 7s 283ms/step - loss: 0.6655 - accuracy: 0.6296 - val_loss: 0.6535 - val_accuracy: 0.6746\n",
      "Epoch 2/100\n",
      "8/8 [==============================] - 1s 68ms/step - loss: 0.6214 - accuracy: 0.7447 - val_loss: 0.6231 - val_accuracy: 0.7342\n",
      "Epoch 3/100\n",
      "8/8 [==============================] - 1s 66ms/step - loss: 0.5837 - accuracy: 0.7907 - val_loss: 0.5954 - val_accuracy: 0.7547\n",
      "Epoch 4/100\n",
      "8/8 [==============================] - 1s 66ms/step - loss: 0.5466 - accuracy: 0.8116 - val_loss: 0.5687 - val_accuracy: 0.7649\n",
      "Epoch 5/100\n",
      "8/8 [==============================] - 1s 66ms/step - loss: 0.5086 - accuracy: 0.8333 - val_loss: 0.5412 - val_accuracy: 0.7785\n",
      "Epoch 6/100\n",
      "8/8 [==============================] - 1s 65ms/step - loss: 0.4693 - accuracy: 0.8508 - val_loss: 0.5131 - val_accuracy: 0.7956\n",
      "Epoch 7/100\n",
      "8/8 [==============================] - 1s 66ms/step - loss: 0.4288 - accuracy: 0.8657 - val_loss: 0.4862 - val_accuracy: 0.8058\n",
      "Epoch 8/100\n",
      "8/8 [==============================] - 1s 66ms/step - loss: 0.3885 - accuracy: 0.8875 - val_loss: 0.4591 - val_accuracy: 0.8416\n",
      "Epoch 9/100\n",
      "8/8 [==============================] - 1s 65ms/step - loss: 0.3483 - accuracy: 0.9109 - val_loss: 0.4346 - val_accuracy: 0.8467\n",
      "Epoch 10/100\n",
      "8/8 [==============================] - 1s 66ms/step - loss: 0.3098 - accuracy: 0.9254 - val_loss: 0.4116 - val_accuracy: 0.8501\n",
      "Epoch 11/100\n",
      "8/8 [==============================] - 1s 65ms/step - loss: 0.2737 - accuracy: 0.9386 - val_loss: 0.3908 - val_accuracy: 0.8569\n",
      "Epoch 12/100\n",
      "8/8 [==============================] - 1s 67ms/step - loss: 0.2406 - accuracy: 0.9467 - val_loss: 0.3730 - val_accuracy: 0.8671\n",
      "Epoch 13/100\n",
      "8/8 [==============================] - 1s 65ms/step - loss: 0.2113 - accuracy: 0.9544 - val_loss: 0.3589 - val_accuracy: 0.8705\n",
      "Epoch 14/100\n",
      "8/8 [==============================] - 1s 66ms/step - loss: 0.1858 - accuracy: 0.9599 - val_loss: 0.3481 - val_accuracy: 0.8705\n",
      "Epoch 15/100\n",
      "8/8 [==============================] - 1s 68ms/step - loss: 0.1639 - accuracy: 0.9650 - val_loss: 0.3409 - val_accuracy: 0.8756\n",
      "Epoch 16/100\n",
      "8/8 [==============================] - 1s 68ms/step - loss: 0.1453 - accuracy: 0.9689 - val_loss: 0.3358 - val_accuracy: 0.8790\n",
      "Epoch 17/100\n",
      "8/8 [==============================] - 1s 68ms/step - loss: 0.1297 - accuracy: 0.9714 - val_loss: 0.3333 - val_accuracy: 0.8756\n",
      "Epoch 18/100\n",
      "8/8 [==============================] - 1s 67ms/step - loss: 0.1159 - accuracy: 0.9753 - val_loss: 0.3318 - val_accuracy: 0.8756\n",
      "Epoch 19/100\n",
      "8/8 [==============================] - 1s 65ms/step - loss: 0.1043 - accuracy: 0.9774 - val_loss: 0.3311 - val_accuracy: 0.8739\n",
      "Epoch 20/100\n",
      "8/8 [==============================] - 1s 66ms/step - loss: 0.0941 - accuracy: 0.9812 - val_loss: 0.3323 - val_accuracy: 0.8739\n",
      "Epoch 21/100\n",
      "8/8 [==============================] - 1s 67ms/step - loss: 0.0855 - accuracy: 0.9829 - val_loss: 0.3350 - val_accuracy: 0.8756\n",
      "Epoch 22/100\n",
      "8/8 [==============================] - 1s 67ms/step - loss: 0.0780 - accuracy: 0.9847 - val_loss: 0.3386 - val_accuracy: 0.8756\n",
      "Epoch 23/100\n",
      "8/8 [==============================] - 1s 68ms/step - loss: 0.0715 - accuracy: 0.9855 - val_loss: 0.3420 - val_accuracy: 0.8756\n",
      "Epoch 24/100\n",
      "8/8 [==============================] - 1s 69ms/step - loss: 0.0660 - accuracy: 0.9859 - val_loss: 0.3451 - val_accuracy: 0.8739\n",
      "Epoch 25/100\n",
      "8/8 [==============================] - 1s 68ms/step - loss: 0.0612 - accuracy: 0.9868 - val_loss: 0.3494 - val_accuracy: 0.8739\n",
      "Epoch 26/100\n",
      "8/8 [==============================] - 1s 65ms/step - loss: 0.0571 - accuracy: 0.9876 - val_loss: 0.3544 - val_accuracy: 0.8722\n",
      "Epoch 27/100\n",
      "8/8 [==============================] - 1s 64ms/step - loss: 0.0535 - accuracy: 0.9881 - val_loss: 0.3589 - val_accuracy: 0.8705\n",
      "Epoch 28/100\n",
      "8/8 [==============================] - 1s 67ms/step - loss: 0.0505 - accuracy: 0.9889 - val_loss: 0.3630 - val_accuracy: 0.8722\n",
      "Epoch 29/100\n",
      "8/8 [==============================] - 1s 66ms/step - loss: 0.0479 - accuracy: 0.9889 - val_loss: 0.3695 - val_accuracy: 0.8722\n",
      "Epoch 29: early stopping\n",
      "acc: 87.9%\n"
     ]
    },
    {
     "ename": "InternalError",
     "evalue": "Failed copying input tensor from /job:localhost/replica:0/task:0/device:GPU:0 to /job:localhost/replica:0/task:0/device:CPU:0 in order to run Identity: Dst tensor is not initialized. [Op:Identity]",
     "output_type": "error",
     "traceback": [
      "\u001b[1;31m---------------------------------------------------------------------------\u001b[0m",
      "\u001b[1;31mInternalError\u001b[0m                             Traceback (most recent call last)",
      "\u001b[1;32md:\\User\\Documents\\VSC\\Python\\Thesis\\main.ipynb Cell 7\u001b[0m in \u001b[0;36m<module>\u001b[1;34m\u001b[0m\n\u001b[0;32m     <a href='vscode-notebook-cell:/d%3A/User/Documents/VSC/Python/Thesis/main.ipynb#W6sZmlsZQ%3D%3D?line=20'>21</a>\u001b[0m \u001b[39mprint\u001b[39m(\u001b[39mf\u001b[39m\u001b[39m'\u001b[39m\u001b[39macc: \u001b[39m\u001b[39m{\u001b[39;00m\u001b[39mround\u001b[39m(acc \u001b[39m*\u001b[39m \u001b[39m100\u001b[39m, \u001b[39m2\u001b[39m)\u001b[39m}\u001b[39;00m\u001b[39m%\u001b[39m\u001b[39m'\u001b[39m)\n\u001b[0;32m     <a href='vscode-notebook-cell:/d%3A/User/Documents/VSC/Python/Thesis/main.ipynb#W6sZmlsZQ%3D%3D?line=21'>22</a>\u001b[0m \u001b[39m# save model\u001b[39;00m\n\u001b[1;32m---> <a href='vscode-notebook-cell:/d%3A/User/Documents/VSC/Python/Thesis/main.ipynb#W6sZmlsZQ%3D%3D?line=22'>23</a>\u001b[0m model\u001b[39m.\u001b[39;49msave(\u001b[39m'\u001b[39;49m\u001b[39mspam_detector\u001b[39;49m\u001b[39m'\u001b[39;49m)\n",
      "File \u001b[1;32mc:\\Users\\Me\\AppData\\Local\\Programs\\Python\\Python310\\lib\\site-packages\\keras\\utils\\traceback_utils.py:67\u001b[0m, in \u001b[0;36mfilter_traceback.<locals>.error_handler\u001b[1;34m(*args, **kwargs)\u001b[0m\n\u001b[0;32m     65\u001b[0m \u001b[39mexcept\u001b[39;00m \u001b[39mException\u001b[39;00m \u001b[39mas\u001b[39;00m e:  \u001b[39m# pylint: disable=broad-except\u001b[39;00m\n\u001b[0;32m     66\u001b[0m   filtered_tb \u001b[39m=\u001b[39m _process_traceback_frames(e\u001b[39m.\u001b[39m__traceback__)\n\u001b[1;32m---> 67\u001b[0m   \u001b[39mraise\u001b[39;00m e\u001b[39m.\u001b[39mwith_traceback(filtered_tb) \u001b[39mfrom\u001b[39;00m \u001b[39mNone\u001b[39m\n\u001b[0;32m     68\u001b[0m \u001b[39mfinally\u001b[39;00m:\n\u001b[0;32m     69\u001b[0m   \u001b[39mdel\u001b[39;00m filtered_tb\n",
      "File \u001b[1;32mc:\\Users\\Me\\AppData\\Local\\Programs\\Python\\Python310\\lib\\site-packages\\tensorflow\\python\\framework\\ops.py:7164\u001b[0m, in \u001b[0;36mraise_from_not_ok_status\u001b[1;34m(e, name)\u001b[0m\n\u001b[0;32m   7162\u001b[0m \u001b[39mdef\u001b[39;00m \u001b[39mraise_from_not_ok_status\u001b[39m(e, name):\n\u001b[0;32m   7163\u001b[0m   e\u001b[39m.\u001b[39mmessage \u001b[39m+\u001b[39m\u001b[39m=\u001b[39m (\u001b[39m\"\u001b[39m\u001b[39m name: \u001b[39m\u001b[39m\"\u001b[39m \u001b[39m+\u001b[39m name \u001b[39mif\u001b[39;00m name \u001b[39mis\u001b[39;00m \u001b[39mnot\u001b[39;00m \u001b[39mNone\u001b[39;00m \u001b[39melse\u001b[39;00m \u001b[39m\"\u001b[39m\u001b[39m\"\u001b[39m)\n\u001b[1;32m-> 7164\u001b[0m   \u001b[39mraise\u001b[39;00m core\u001b[39m.\u001b[39m_status_to_exception(e) \u001b[39mfrom\u001b[39;00m \u001b[39mNone\u001b[39m\n",
      "\u001b[1;31mInternalError\u001b[0m: Failed copying input tensor from /job:localhost/replica:0/task:0/device:GPU:0 to /job:localhost/replica:0/task:0/device:CPU:0 in order to run Identity: Dst tensor is not initialized. [Op:Identity]"
     ]
    }
   ],
   "source": [
    "hub_layer = hub.KerasLayer('nnlm_en_dim50_2', input_shape=[], dtype=string, trainable=True)\n",
    "\n",
    "# define model\n",
    "model = Sequential()\n",
    "model.add(hub_layer)\n",
    "model.add(Dense(16, activation='relu'))\n",
    "model.add(Dense(1, activation='sigmoid'))\n",
    "\n",
    "early_stop = EarlyStopping(monitor='val_loss', mode='min', verbose=1, patience=10)\n",
    "model.compile(loss='binary_crossentropy', optimizer='adam', metrics=['accuracy'])\n",
    "# fit model\n",
    "hist = model.fit(\n",
    "\tX_train,\n",
    "\ty_train,\n",
    "\tepochs=100,\n",
    "\tbatch_size=300,\n",
    "\tvalidation_data=(X_test, y_test),\n",
    "\tcallbacks=[early_stop]\n",
    ")\n",
    "acc = max(hist.history['val_accuracy'])\n",
    "print(f'acc: {round(acc * 100, 2)}%')\n",
    "# save model\n",
    "model.save('spam_detector')"
   ]
  },
  {
   "cell_type": "code",
   "execution_count": 8,
   "metadata": {},
   "outputs": [
    {
     "name": "stdout",
     "output_type": "stream",
     "text": [
      "SPAM - 99.82% - That's nice, thanks for replying, you can send a message to my administrator on watsap to earn in crypto especially Bitcoin ...+‪..1..6.1..3..6.0..4..5..7..4..7 He's excellent at what he does, tell him referred you to him. His passionate strategies are top notch the ✌️🇺🇸\n",
      "SPAM - 98.01% - I’m so happy I met RM_KESH01 on Insta he help me recover my lost Erc20 sent to a wrong network I’m so happy because his trusted and reliableThis is wonderful and unbelievable just got my Bitcoin account back through Doavercracks on ig thanks a lot really appreciate it.\n",
      "SPAM - 98.5% - I recommend y’all to Doavercracks on IG.\n",
      "SPAM - 99.33% - BTC price to volatiles swing, making it historically popular for traders to speculate on. According to bitcoin having cycles, there should be at least other four months in this bull run, so, if the Pi indicator (and bitcoin) might repeat a similar bull run to 2013,that would mean a local top relatively close in time and then another top to end the bull run towards mid year, investor's and trader's find it difficult to decide how best to utilize the current market, holding is profitable but trading is far more profitable, I was able to grasp knowledge of trading crypto assets earlier enough, I didn't think it was possible to make constant win from trading till I come across Mrs milly program for investor's and newbies who lack understanding on how trading BTC works, to help them stack up more bitcoin, since late last year till date I have made over 19BTC from 2.6BTC with Mrs milly's help, you can easily get to her with this WhatsApp number +1-2-1-0-8-0-6-4-8-8-9\n",
      "SPAM - 84.22% - Never thought it was possible to recover my lost btc until I meet victoolz on insta who helped me...\n",
      "SPAM - 97.42% - Can’t recommend him enough for his tireless effort and tremendous job done Doavercracks on IG his truly the best 💯💯\n",
      "SPAM - 76.99% - 𝟰𝗕𝗧𝗖 𝘄𝗮𝘀 𝘀𝗲𝗻𝘁 𝘁𝗼 𝗺𝘆 𝗯𝗹𝗼𝗰𝗸𝗰𝗵𝗮𝗶𝗻 𝗮𝗰𝗰𝗼𝘂𝗻𝘁 𝗜'𝗺 𝘁𝗵𝗮𝗻𝗸𝗶𝗻𝗴 𝗚𝗼𝗱  𝗳𝗼𝗿 𝘀𝗲𝗻𝗱𝗶𝗻𝗴 𝗜𝗢𝗦𝗧𝗢𝗢𝗟𝗦 𝗼𝗻 !𝗚 𝗳𝗼𝗿 𝘀𝗮𝘃𝗶𝗻𝗴 𝗺𝘆 𝗹𝗶𝗳𝗲\n",
      "SPAM - 99.07% - Another 0.05682 bitcoin was recover by this Dude *DANTECHIES* on instagram, I appreciate the work he did for me..\n",
      "SPAM - 69.8% - 😭😢😭😭 *core_cyber* on Instagram just made me proud, thank you so much sir..\n",
      "HAM - 7.0% - Xavier is wonderful, I traded with him and made huge profits\n",
      "SPAM - 92.23% - Contact Mr. Decuyper on msgnr for advice\n",
      "HAM - 1.99% - Amazing video!\n",
      "HAM - 0.78% - Maybe to make proof of stake system more democraric we can think about share a certain amount of money the validator get to all the other validators?\n",
      "HAM - 14.52% - I don’t get it 😅😂\n",
      "HAM - 0.83% - Watching this video as El Salvador 🇸🇻 just made bitcoin a legal tender..lol\n",
      "SPAM - 86.91% - finally it's here\n",
      "SPAM - 90.51% - dont read my username\n",
      "SPAM - 95.58% - don't read my username\n",
      "SPAM - 93.97% - congratulations you won a giveaway\n"
     ]
    }
   ],
   "source": [
    "test_comments = [\n",
    "    # spam\n",
    "    \"That's nice, thanks for replying, you can send a message to my administrator on watsap to earn in crypto especially Bitcoin ...+\\u202a..1..6.1..3..6.0..4..5..7..4..7 He's excellent at what he does, tell him referred you to him. His passionate strategies are top notch the ✌️🇺🇸\",\n",
    "    \"I’m so happy I met RM_KESH01 on Insta he help me recover my lost Erc20 sent to a wrong network I’m so happy because his trusted and reliable\"\n",
    "    \"This is wonderful and unbelievable just got my Bitcoin account back through Doavercracks on ig thanks a lot really appreciate it.\",\n",
    "    \"I recommend y’all to Doavercracks on IG.\",\n",
    "    \"BTC price to volatiles swing, making it historically popular for traders to speculate on. According to bitcoin having cycles, there should be at least other four months in this bull run, so, if the Pi indicator (and bitcoin) might repeat a similar bull run to 2013,that would mean a local top relatively close in time and then another top to end the bull run towards mid year, investor's and trader's find it difficult to decide how best to utilize the current market, holding is profitable but trading is far more profitable, I was able to grasp knowledge of trading crypto assets earlier enough, I didn't think it was possible to make constant win from trading till I come across Mrs milly program for investor's and newbies who lack understanding on how trading BTC works, to help them stack up more bitcoin, since late last year till date I have made over 19BTC from 2.6BTC with Mrs milly's help, you can easily get to her with this WhatsApp number +1-2-1-0-8-0-6-4-8-8-9\",\n",
    "    \"Never thought it was possible to recover my lost btc until I meet victoolz on insta who helped me...\",\n",
    "    \"Can’t recommend him enough for his tireless effort and tremendous job done Doavercracks on IG his truly the best 💯💯\",\n",
    "    \"𝟰𝗕𝗧𝗖 𝘄𝗮𝘀 𝘀𝗲𝗻𝘁 𝘁𝗼 𝗺𝘆 𝗯𝗹𝗼𝗰𝗸𝗰𝗵𝗮𝗶𝗻 𝗮𝗰𝗰𝗼𝘂𝗻𝘁 𝗜'𝗺 𝘁𝗵𝗮𝗻𝗸𝗶𝗻𝗴 𝗚𝗼𝗱  𝗳𝗼𝗿 𝘀𝗲𝗻𝗱𝗶𝗻𝗴 𝗜𝗢𝗦𝗧𝗢𝗢𝗟𝗦 𝗼𝗻 !𝗚 𝗳𝗼𝗿 𝘀𝗮𝘃𝗶𝗻𝗴 𝗺𝘆 𝗹𝗶𝗳𝗲\",\n",
    "    \"Another 0.05682 bitcoin was recover by this Dude *DANTECHIES* on instagram, I appreciate the work he did for me..\",\n",
    "    \"😭😢😭😭 *core_cyber* on Instagram just made me proud, thank you so much sir..\",\n",
    "    \"Xavier is wonderful, I traded with him and made huge profits\",\n",
    "    \"Contact Mr. Decuyper on msgnr for advice\",\n",
    "    # Not spam\n",
    "    \"Amazing video!\",\n",
    "    \"Maybe to make proof of stake system more democraric we can think about share a certain amount of money the validator get to all the other validators?\",\n",
    "    \"I don’t get it 😅😂\",\n",
    "    \"Watching this video as El Salvador 🇸🇻 just made bitcoin a legal tender..lol\",\n",
    "    \"finally it's here\",\n",
    "    \"dont read my username\",\n",
    "    \"don't read my username\",\n",
    "    \"congratulations you won a giveaway\"\n",
    "]\n",
    "\n",
    "for test in test_comments:\n",
    "    score = round(model.predict([pre_process(test)], verbose=0)[0][0] * 100, 2)\n",
    "    print(f\"{'SPAM' if int(score) > 50 else 'HAM'} - {score}% - {test}\")"
   ]
  },
  {
   "cell_type": "code",
   "execution_count": null,
   "metadata": {},
   "outputs": [],
   "source": [
    "#"
   ]
  },
  {
   "cell_type": "code",
   "execution_count": 9,
   "metadata": {},
   "outputs": [
    {
     "data": {
      "image/png": "[encoded data removed]",
      "text/plain": [
       "<Figure size 432x288 with 1 Axes>"
      ]
     },
     "metadata": {
      "needs_background": "light"
     },
     "output_type": "display_data"
    },
    {
     "data": {
      "image/png": "[encoded data removed]",
      "text/plain": [
       "<Figure size 432x288 with 1 Axes>"
      ]
     },
     "metadata": {
      "needs_background": "light"
     },
     "output_type": "display_data"
    }
   ],
   "source": [
    "# plot loss and accuracy\n",
    "import matplotlib.pyplot as plt\n",
    "\n",
    "def plot_history(history):\n",
    "    loss_list = [s for s in history.history.keys() if 'loss' in s and 'val' not in s]\n",
    "    val_loss_list = [s for s in history.history.keys() if 'loss' in s and 'val' in s]\n",
    "    acc_list = [s for s in history.history.keys() if 'acc' in s and 'val' not in s]\n",
    "    val_acc_list = [s for s in history.history.keys() if 'acc' in s and 'val' in s]\n",
    "    \n",
    "    if len(loss_list) == 0:\n",
    "        print('Loss is missing in history')\n",
    "        return \n",
    "    \n",
    "    # As loss always exists\n",
    "    epochs = range(1, len(history.history[loss_list[0]]) + 1)\n",
    "    \n",
    "    # Loss\n",
    "    plt.figure(1)\n",
    "    for l in loss_list:\n",
    "        plt.plot(epochs, history.history[l], 'b', label='Training loss (' + str(str(format(history.history[l][-1],'.5f'))+')'))\n",
    "    for l in val_loss_list:\n",
    "        plt.plot(epochs, history.history[l], 'g', label='Validation loss (' + str(str(format(history.history[l][-1],'.5f'))+')'))\n",
    "    \n",
    "    plt.title('Loss')\n",
    "    plt.xlabel('Epochs')\n",
    "    plt.ylabel('Loss')\n",
    "    plt.legend()\n",
    "    \n",
    "    # Accuracy\n",
    "    plt.figure(2)\n",
    "    for l in acc_list:\n",
    "        plt.plot(epochs, history.history[l], 'b', label='Training accuracy (' + str(format(history.history[l][-1],'.5f'))+')')\n",
    "    for l in val_acc_list:    \n",
    "        plt.plot(epochs, history.history[l], 'g', label='Validation accuracy (' + str(format(history.history[l][-1],'.5f'))+')')\n",
    "\n",
    "    plt.title('Accuracy')\n",
    "    plt.xlabel('Epochs')\n",
    "    plt.ylabel('Accuracy')\n",
    "    plt.legend()\n",
    "    plt.show()\n",
    "\n",
    "plot_history(hist)"
   ]
  }
 ],
 "metadata": {
  "kernelspec": {
   "display_name": "Python 3.10.2 64-bit",
   "language": "python",
   "name": "python3"
  },
  "language_info": {
   "codemirror_mode": {
    "name": "ipython",
    "version": 3
   },
   "file_extension": ".py",
   "mimetype": "text/x-python",
   "name": "python",
   "nbconvert_exporter": "python",
   "pygments_lexer": "ipython3",
   "version": "3.10.2 (tags/v3.10.2:a58ebcc, Jan 17 2022, 14:12:15) [MSC v.1929 64 bit (AMD64)]"
  },
  "orig_nbformat": 4,
  "vscode": {
   "interpreter": {
    "hash": "7fd5f0ae0ac350a363f5a11ffbf7b24bda9f74a3f3d508a6abe7beb4472e3c34"
   }
  }
 },
 "nbformat": 4,
 "nbformat_minor": 2
}
